{
 "cells": [
  {
   "cell_type": "code",
   "execution_count": 127,
   "id": "16f9683a",
   "metadata": {},
   "outputs": [],
   "source": [
    "import warnings\n",
    "warnings.filterwarnings(\"ignore\")\n",
    "import tqdm"
   ]
  },
  {
   "cell_type": "code",
   "execution_count": 90,
   "id": "6ab97666",
   "metadata": {},
   "outputs": [
    {
     "data": {
      "application/vnd.jupyter.widget-view+json": {
       "model_id": "1692bdf960f3462bb312e519969e4e9b",
       "version_major": 2,
       "version_minor": 0
      },
      "text/plain": [
       "Downloading https://raw.githubusercontent.com/stanfordnlp/stanza-resources/main/resources_1.3.0.json:   0%|   …"
      ]
     },
     "metadata": {},
     "output_type": "display_data"
    },
    {
     "name": "stderr",
     "output_type": "stream",
     "text": [
      "2021-10-05 17:35:58 INFO: Downloading default packages for language: ar (Arabic)...\n",
      "2021-10-05 17:35:59 INFO: File exists: /Users/mufseeramusthafa/stanza_resources/ar/default.zip.\n",
      "2021-10-05 17:36:04 INFO: Finished downloading models and saved to /Users/mufseeramusthafa/stanza_resources.\n",
      "2021-10-05 17:36:04 INFO: Loading these models for language: ar (Arabic):\n",
      "=======================\n",
      "| Processor | Package |\n",
      "-----------------------\n",
      "| tokenize  | padt    |\n",
      "| mwt       | padt    |\n",
      "| pos       | padt    |\n",
      "| lemma     | padt    |\n",
      "| depparse  | padt    |\n",
      "| ner       | aqmar   |\n",
      "=======================\n",
      "\n",
      "2021-10-05 17:36:04 INFO: Use device: cpu\n",
      "2021-10-05 17:36:04 INFO: Loading: tokenize\n",
      "2021-10-05 17:36:04 INFO: Loading: mwt\n",
      "2021-10-05 17:36:04 INFO: Loading: pos\n",
      "2021-10-05 17:36:04 INFO: Loading: lemma\n",
      "2021-10-05 17:36:05 INFO: Loading: depparse\n",
      "2021-10-05 17:36:05 INFO: Loading: ner\n",
      "2021-10-05 17:36:05 INFO: Done loading processors!\n"
     ]
    }
   ],
   "source": [
    "text = \"\"\"  نشر العدل من خلال قضاء مستقل.\"\"\"\n",
    "import stanza\n",
    "stanza.download('ar')       # This downloads the arabic models for the neural pipeline\n",
    "nlp = stanza.Pipeline('ar') # This sets up a default neural pipeline in Arabic\n",
    "doc = nlp(text)"
   ]
  },
  {
   "cell_type": "code",
   "execution_count": 91,
   "id": "b04fd22c",
   "metadata": {},
   "outputs": [
    {
     "name": "stdout",
     "output_type": "stream",
     "text": [
      "('نشر', 0, 'root')\n",
      "('العدل', 1, 'nmod')\n",
      "('من', 5, 'case')\n",
      "('خلال', 3, 'fixed')\n",
      "('قضاء', 1, 'nmod')\n",
      "('مستقل', 5, 'amod')\n",
      "('.', 1, 'punct')\n"
     ]
    }
   ],
   "source": [
    "doc.sentences[0].print_dependencies()"
   ]
  },
  {
   "cell_type": "code",
   "execution_count": 92,
   "id": "5453959a",
   "metadata": {},
   "outputs": [
    {
     "name": "stderr",
     "output_type": "stream",
     "text": [
      "2021-10-05 17:36:06 INFO: Loading these models for language: ar (Arabic):\n",
      "=======================\n",
      "| Processor | Package |\n",
      "-----------------------\n",
      "| tokenize  | padt    |\n",
      "| mwt       | padt    |\n",
      "| pos       | padt    |\n",
      "=======================\n",
      "\n",
      "2021-10-05 17:36:06 INFO: Use device: cpu\n",
      "2021-10-05 17:36:06 INFO: Loading: tokenize\n",
      "2021-10-05 17:36:06 INFO: Loading: mwt\n",
      "2021-10-05 17:36:06 INFO: Loading: pos\n",
      "2021-10-05 17:36:06 INFO: Done loading processors!\n"
     ]
    }
   ],
   "source": [
    "nlp_arabic = stanza.Pipeline(lang='ar', processors='tokenize,mwt,pos')\n",
    "doc_arabic = nlp(text)"
   ]
  },
  {
   "cell_type": "code",
   "execution_count": 93,
   "id": "2bdddcaf",
   "metadata": {},
   "outputs": [
    {
     "name": "stdout",
     "output_type": "stream",
     "text": [
      "word: نشر\tupos: NOUN\n",
      "word: العدل\tupos: NOUN\n",
      "word: من\tupos: ADP\n",
      "word: خلال\tupos: ADP\n",
      "word: قضاء\tupos: NOUN\n",
      "word: مستقل\tupos: ADJ\n",
      "word: .\tupos: PUNCT\n"
     ]
    }
   ],
   "source": [
    "print(*[f'word: {word.text}\\tupos: {word.upos}' for sent in doc_arabic.sentences for word in sent.words], sep='\\n')"
   ]
  },
  {
   "cell_type": "code",
   "execution_count": 94,
   "id": "1d42eede",
   "metadata": {},
   "outputs": [
    {
     "name": "stderr",
     "output_type": "stream",
     "text": [
      "2021-10-05 17:36:06 INFO: Loading these models for language: ar (Arabic):\n",
      "=======================\n",
      "| Processor | Package |\n",
      "-----------------------\n",
      "| tokenize  | padt    |\n",
      "| mwt       | padt    |\n",
      "| pos       | padt    |\n",
      "| lemma     | padt    |\n",
      "| depparse  | padt    |\n",
      "=======================\n",
      "\n",
      "2021-10-05 17:36:06 INFO: Use device: cpu\n",
      "2021-10-05 17:36:06 INFO: Loading: tokenize\n",
      "2021-10-05 17:36:06 INFO: Loading: mwt\n",
      "2021-10-05 17:36:06 INFO: Loading: pos\n",
      "2021-10-05 17:36:06 INFO: Loading: lemma\n",
      "2021-10-05 17:36:06 INFO: Loading: depparse\n",
      "2021-10-05 17:36:06 INFO: Done loading processors!\n"
     ]
    },
    {
     "name": "stdout",
     "output_type": "stream",
     "text": [
      "id: 1\tword: نشر\thead id: 0\thead: root\tdeprel: root\n",
      "id: 2\tword: العدل\thead id: 1\thead: نشر\tdeprel: nmod\n",
      "id: 3\tword: من\thead id: 5\thead: قضاء\tdeprel: case\n",
      "id: 4\tword: خلال\thead id: 3\thead: من\tdeprel: fixed\n",
      "id: 5\tword: قضاء\thead id: 1\thead: نشر\tdeprel: nmod\n",
      "id: 6\tword: مستقل\thead id: 5\thead: قضاء\tdeprel: amod\n",
      "id: 7\tword: .\thead id: 1\thead: نشر\tdeprel: punct\n"
     ]
    }
   ],
   "source": [
    "import stanza\n",
    "\n",
    "nlp = stanza.Pipeline(lang='ar', processors='tokenize,mwt,pos,lemma,depparse')\n",
    "doc = nlp(text)\n",
    "print(*[f'id: {word.id}\\tword: {word.text}\\thead id: {word.head}\\thead: {sent.words[word.head-1].text if word.head > 0 else \"root\"}\\tdeprel: {word.deprel}' for sent in doc.sentences for word in sent.words], sep='\\n')"
   ]
  },
  {
   "cell_type": "code",
   "execution_count": 95,
   "id": "9102350f",
   "metadata": {},
   "outputs": [],
   "source": [
    "text_1= \"تقيم الفنانة ليتا كابيلوت معرضاً في مطلع العام المقبل في دبي، ويضم المعرض 35 لوحة، تركز خلالها على الوجوه .كابيلوت ولدت في العام 1961 في مجتمع غجري، لأم هجرتها قبل أن تتجاوز الثلاثة شهور من عمرها، لتتكفل جدتها الغجرية بتربيتها إلى سن الثامنة من عمرها، بعدما منعتها من الالتحاق بالمدرسة، إلا أن تسليمها في مابعد إلى أحد المياتم من قبل جدتها، شكل نقطة تحول بارزة في حياتها، لتتدرج رويداً رويداً في عالم الفن، بعد نضوج واكتشاف موهبتها، .ومن أبرز ما لاحظه النقاد حول أعمال ليتا كابيلوت أن أعمالها الفنية استطاعت أن تخلق عالماً أكبر من الصورة الفنية، حيث الوحة في هيئة كائن يتآلف من الألوان الزيتية والجبس والقماش، لتستطيع إثارة الجدل بحق من خلال استفزازها للخيال وهي تلتقط عوالم فتيات الشوارع والغانيات والمهرجين والموسيقيين، وقد جمعت كل ذلك في كتاب صدر عن دار فريدا كاهلو، كي تعد نفسها في تناول مشروعها المهم الذي تسميه أم المآسي الإنسانية، حيث تسلط خلاله الضوء على المرض العقلي محور تجربتها الجديدة، ضمن أسلوبها الذي يعتمد على الأبيض والأسود وتفلسفهما على نحو خاص .\""
   ]
  },
  {
   "cell_type": "code",
   "execution_count": 96,
   "id": "6783a4e3",
   "metadata": {},
   "outputs": [],
   "source": [
    "doc = nlp(text_1)"
   ]
  },
  {
   "cell_type": "code",
   "execution_count": 97,
   "id": "d43eca57",
   "metadata": {},
   "outputs": [
    {
     "name": "stdout",
     "output_type": "stream",
     "text": [
      "word: تقيم\tdeprel: root\tupos: VERB\n",
      "word: الفنانة\tdeprel: nsubj\tupos: NOUN\n",
      "word: ليتا\tdeprel: nmod\tupos: X\n",
      "word: كابيلوت\tdeprel: nsubj\tupos: X\n",
      "word: معرضاً\tdeprel: obj\tupos: NOUN\n",
      "word: في\tdeprel: case\tupos: ADP\n",
      "word: مطلع\tdeprel: obl\tupos: NOUN\n",
      "word: العام\tdeprel: nmod\tupos: NOUN\n",
      "word: المقبل\tdeprel: amod\tupos: ADJ\n",
      "word: في\tdeprel: case\tupos: ADP\n",
      "word: دبي\tdeprel: obl\tupos: X\n",
      "word: ،\tdeprel: punct\tupos: PUNCT\n",
      "word: و\tdeprel: cc\tupos: CCONJ\n",
      "word: يضم\tdeprel: conj\tupos: VERB\n",
      "word: المعرض\tdeprel: obj\tupos: NOUN\n",
      "word: 35\tdeprel: nummod\tupos: NUM\n",
      "word: لوحة\tdeprel: nmod\tupos: NOUN\n",
      "word: ،\tdeprel: punct\tupos: PUNCT\n",
      "word: تركز\tdeprel: acl\tupos: VERB\n",
      "word: خلال\tdeprel: case\tupos: ADP\n",
      "word: ها\tdeprel: obl\tupos: PRON\n",
      "word: على\tdeprel: case\tupos: ADP\n",
      "word: الوجوه\tdeprel: obl:arg\tupos: NOUN\n",
      "word: .\tdeprel: punct\tupos: PUNCT\n",
      "word: كابيلوت\tdeprel: nsubj:pass\tupos: X\n",
      "word: ولدت\tdeprel: parataxis\tupos: VERB\n",
      "word: في\tdeprel: case\tupos: ADP\n",
      "word: العام\tdeprel: obl\tupos: NOUN\n",
      "word: 1961\tdeprel: nummod\tupos: NUM\n",
      "word: في\tdeprel: case\tupos: ADP\n",
      "word: مجتمع\tdeprel: obl\tupos: NOUN\n",
      "word: غجري\tdeprel: amod\tupos: ADJ\n",
      "word: ،\tdeprel: punct\tupos: PUNCT\n",
      "word: ل\tdeprel: mark\tupos: ADP\n",
      "word: أم\tdeprel: cc\tupos: CCONJ\n",
      "word: هجرت\tdeprel: conj\tupos: VERB\n",
      "word: ها\tdeprel: obj\tupos: PRON\n",
      "word: قبل\tdeprel: mark\tupos: ADP\n",
      "word: أن\tdeprel: mark\tupos: SCONJ\n",
      "word: تتجاوز\tdeprel: advcl\tupos: VERB\n",
      "word: الثلاثة\tdeprel: obj\tupos: NUM\n",
      "word: شهور\tdeprel: nmod\tupos: NOUN\n",
      "word: من\tdeprel: case\tupos: ADP\n",
      "word: عمر\tdeprel: obl\tupos: NOUN\n",
      "word: ها\tdeprel: nmod\tupos: PRON\n",
      "word: ،\tdeprel: punct\tupos: PUNCT\n",
      "word: ل\tdeprel: mark\tupos: CCONJ\n",
      "word: تتكفل\tdeprel: advcl\tupos: VERB\n",
      "word: جدة\tdeprel: nsubj\tupos: NOUN\n",
      "word: ها\tdeprel: nmod\tupos: PRON\n",
      "word: الغجرية\tdeprel: amod\tupos: ADJ\n",
      "word: ب\tdeprel: case\tupos: ADP\n",
      "word: تربية\tdeprel: obl:arg\tupos: NOUN\n",
      "word: ها\tdeprel: nmod\tupos: PRON\n",
      "word: إلى\tdeprel: case\tupos: ADP\n",
      "word: سن\tdeprel: obl\tupos: X\n",
      "word: الثامنة\tdeprel: amod\tupos: ADJ\n",
      "word: من\tdeprel: case\tupos: ADP\n",
      "word: عمر\tdeprel: nmod\tupos: NOUN\n",
      "word: ها\tdeprel: nmod\tupos: PRON\n",
      "word: ،\tdeprel: punct\tupos: PUNCT\n",
      "word: بعدما\tdeprel: mark\tupos: CCONJ\n",
      "word: منعة\tdeprel: advcl\tupos: VERB\n",
      "word: ها\tdeprel: obj\tupos: PRON\n",
      "word: من\tdeprel: case\tupos: ADP\n",
      "word: الالتحاق\tdeprel: obl:arg\tupos: NOUN\n",
      "word: ب\tdeprel: case\tupos: ADP\n",
      "word: المدرسة\tdeprel: nmod\tupos: NOUN\n",
      "word: ،\tdeprel: punct\tupos: PUNCT\n",
      "word: إلا\tdeprel: cc\tupos: PART\n",
      "word: أن\tdeprel: cc\tupos: SCONJ\n",
      "word: تسليم\tdeprel: nsubj\tupos: NOUN\n",
      "word: ها\tdeprel: nmod\tupos: PRON\n",
      "word: في\tdeprel: case\tupos: ADP\n",
      "word: مابعد\tdeprel: nmod\tupos: NOUN\n",
      "word: إلى\tdeprel: case\tupos: ADP\n",
      "word: أحد\tdeprel: nmod\tupos: NOUN\n",
      "word: المياتم\tdeprel: nmod\tupos: NOUN\n",
      "word: من\tdeprel: case\tupos: ADP\n",
      "word: قبل\tdeprel: fixed\tupos: NOUN\n",
      "word: جدة\tdeprel: nmod\tupos: NOUN\n",
      "word: ها\tdeprel: nmod\tupos: PRON\n",
      "word: ،\tdeprel: punct\tupos: PUNCT\n",
      "word: شكل\tdeprel: conj\tupos: VERB\n",
      "word: نقطة\tdeprel: obj\tupos: NOUN\n",
      "word: تحول\tdeprel: nmod\tupos: NOUN\n",
      "word: بارزة\tdeprel: amod\tupos: ADJ\n",
      "word: في\tdeprel: case\tupos: ADP\n",
      "word: حياة\tdeprel: nmod\tupos: NOUN\n",
      "word: ها\tdeprel: nmod\tupos: PRON\n",
      "word: ،\tdeprel: punct\tupos: PUNCT\n",
      "word: ل\tdeprel: mark\tupos: CCONJ\n",
      "word: تتدرج\tdeprel: advcl\tupos: VERB\n",
      "word: رويداً\tdeprel: obj\tupos: ADJ\n",
      "word: رويداً\tdeprel: obl\tupos: ADJ\n",
      "word: في\tdeprel: case\tupos: ADP\n",
      "word: عالم\tdeprel: obl\tupos: NOUN\n",
      "word: الفن\tdeprel: nmod\tupos: NOUN\n",
      "word: ،\tdeprel: punct\tupos: PUNCT\n",
      "word: بعد\tdeprel: case\tupos: ADP\n",
      "word: نضوج\tdeprel: obl\tupos: NOUN\n",
      "word: و\tdeprel: cc\tupos: CCONJ\n",
      "word: اكتشاف\tdeprel: conj\tupos: NOUN\n",
      "word: موهبة\tdeprel: nmod\tupos: NOUN\n",
      "word: ها\tdeprel: nmod\tupos: PRON\n",
      "word: ،\tdeprel: punct\tupos: PUNCT\n",
      "word: .\tdeprel: punct\tupos: PUNCT\n",
      "word: و\tdeprel: root\tupos: CCONJ\n",
      "word: من\tdeprel: case\tupos: ADP\n",
      "word: أبرز\tdeprel: parataxis\tupos: ADJ\n",
      "word: ما\tdeprel: det\tupos: DET\n",
      "word: ل\tdeprel: mark\tupos: ADP\n",
      "word: أحظ\tdeprel: csubj\tupos: VERB\n",
      "word: ه\tdeprel: obj\tupos: PRON\n",
      "word: النقاد\tdeprel: nsubj\tupos: NOUN\n",
      "word: حول\tdeprel: case\tupos: ADP\n",
      "word: أعمال\tdeprel: obl:arg\tupos: NOUN\n",
      "word: ليتا\tdeprel: nmod\tupos: X\n",
      "word: كابيلوت\tdeprel: nmod\tupos: X\n",
      "word: أن\tdeprel: mark\tupos: SCONJ\n",
      "word: أعمال\tdeprel: nsubj\tupos: NOUN\n",
      "word: ها\tdeprel: nmod\tupos: PRON\n",
      "word: الفنية\tdeprel: amod\tupos: ADJ\n",
      "word: استطاعت\tdeprel: csubj\tupos: VERB\n",
      "word: أن\tdeprel: mark\tupos: SCONJ\n",
      "word: تخلق\tdeprel: ccomp\tupos: VERB\n",
      "word: عالماً\tdeprel: obj\tupos: NOUN\n",
      "word: أكبر\tdeprel: amod\tupos: ADJ\n",
      "word: من\tdeprel: case\tupos: ADP\n",
      "word: الصورة\tdeprel: nmod\tupos: NOUN\n",
      "word: الفنية\tdeprel: amod\tupos: ADJ\n",
      "word: ،\tdeprel: punct\tupos: PUNCT\n",
      "word: حيث\tdeprel: mark\tupos: CCONJ\n",
      "word: الوحة\tdeprel: conj\tupos: NOUN\n",
      "word: في\tdeprel: case\tupos: ADP\n",
      "word: هيئة\tdeprel: nmod\tupos: NOUN\n",
      "word: كائن\tdeprel: amod\tupos: ADJ\n",
      "word: يتآلف\tdeprel: acl\tupos: VERB\n",
      "word: من\tdeprel: case\tupos: ADP\n",
      "word: الألوان\tdeprel: obl:arg\tupos: NOUN\n",
      "word: الزيتية\tdeprel: amod\tupos: ADJ\n",
      "word: و\tdeprel: cc\tupos: CCONJ\n",
      "word: الجبس\tdeprel: conj\tupos: NOUN\n",
      "word: و\tdeprel: cc\tupos: CCONJ\n",
      "word: القماش\tdeprel: conj\tupos: NOUN\n",
      "word: ،\tdeprel: punct\tupos: PUNCT\n",
      "word: ل\tdeprel: mark\tupos: CCONJ\n",
      "word: تستطيع\tdeprel: advcl\tupos: VERB\n",
      "word: إثارة\tdeprel: obj\tupos: NOUN\n",
      "word: الجدل\tdeprel: nmod\tupos: NOUN\n",
      "word: بحق\tdeprel: nmod\tupos: NOUN\n",
      "word: من\tdeprel: case\tupos: ADP\n",
      "word: خلال\tdeprel: fixed\tupos: ADP\n",
      "word: استفزاز\tdeprel: obl\tupos: NOUN\n",
      "word: ها\tdeprel: nmod\tupos: PRON\n",
      "word: ل\tdeprel: case\tupos: ADP\n",
      "word: الخيال\tdeprel: nmod\tupos: NOUN\n",
      "word: و\tdeprel: cc\tupos: CCONJ\n",
      "word: هي\tdeprel: nsubj\tupos: PRON\n",
      "word: تلتقط\tdeprel: conj\tupos: VERB\n",
      "word: عوالم\tdeprel: obj\tupos: NOUN\n",
      "word: فتيات\tdeprel: nmod\tupos: NOUN\n",
      "word: الشوارع\tdeprel: nmod\tupos: NOUN\n",
      "word: و\tdeprel: cc\tupos: CCONJ\n",
      "word: الغانيات\tdeprel: conj\tupos: ADJ\n",
      "word: و\tdeprel: cc\tupos: CCONJ\n",
      "word: المهرجين\tdeprel: conj\tupos: NOUN\n",
      "word: و\tdeprel: cc\tupos: CCONJ\n",
      "word: الموسيقيين\tdeprel: conj\tupos: ADJ\n",
      "word: ،\tdeprel: punct\tupos: PUNCT\n",
      "word: و\tdeprel: cc\tupos: CCONJ\n",
      "word: قد\tdeprel: aux\tupos: AUX\n",
      "word: جمعت\tdeprel: conj\tupos: VERB\n",
      "word: كل\tdeprel: nsubj\tupos: NOUN\n",
      "word: ذلك\tdeprel: amod\tupos: DET\n",
      "word: في\tdeprel: case\tupos: ADP\n",
      "word: كتاب\tdeprel: obl\tupos: NOUN\n",
      "word: صدر\tdeprel: acl\tupos: VERB\n",
      "word: عن\tdeprel: case\tupos: ADP\n",
      "word: دار\tdeprel: obl:arg\tupos: NOUN\n",
      "word: فريدا\tdeprel: amod\tupos: ADJ\n",
      "word: كاهلو\tdeprel: nmod\tupos: X\n",
      "word: ،\tdeprel: punct\tupos: PUNCT\n",
      "word: كي\tdeprel: mark\tupos: CCONJ\n",
      "word: تعد\tdeprel: advcl\tupos: VERB\n",
      "word: نفس\tdeprel: obj\tupos: NOUN\n",
      "word: ها\tdeprel: nmod\tupos: PRON\n",
      "word: في\tdeprel: case\tupos: ADP\n",
      "word: تناول\tdeprel: obl\tupos: NOUN\n",
      "word: مشروع\tdeprel: nmod\tupos: NOUN\n",
      "word: ها\tdeprel: nmod\tupos: PRON\n",
      "word: المهم\tdeprel: amod\tupos: ADJ\n",
      "word: الذي\tdeprel: nsubj\tupos: DET\n",
      "word: تسمي\tdeprel: acl:relcl\tupos: VERB\n",
      "word: ه\tdeprel: obj\tupos: PRON\n",
      "word: أم\tdeprel: cc\tupos: CCONJ\n",
      "word: المآسي\tdeprel: conj\tupos: NOUN\n",
      "word: الإنسانية\tdeprel: amod\tupos: ADJ\n",
      "word: ،\tdeprel: punct\tupos: PUNCT\n",
      "word: حيث\tdeprel: mark\tupos: CCONJ\n",
      "word: تسلط\tdeprel: advcl\tupos: VERB\n",
      "word: خلال\tdeprel: case\tupos: ADP\n",
      "word: ه\tdeprel: obl\tupos: PRON\n",
      "word: الضوء\tdeprel: obj\tupos: NOUN\n",
      "word: على\tdeprel: case\tupos: ADP\n",
      "word: المرض\tdeprel: obl:arg\tupos: NOUN\n",
      "word: العقلي\tdeprel: amod\tupos: ADJ\n",
      "word: محور\tdeprel: obj\tupos: NOUN\n",
      "word: تجربة\tdeprel: nmod\tupos: NOUN\n",
      "word: ها\tdeprel: nmod\tupos: PRON\n",
      "word: الجديدة\tdeprel: amod\tupos: ADJ\n",
      "word: ،\tdeprel: punct\tupos: PUNCT\n",
      "word: ضمن\tdeprel: case\tupos: ADP\n",
      "word: أسلوا\tdeprel: nmod\tupos: VERB\n",
      "word: ها\tdeprel: nmod\tupos: PRON\n",
      "word: الذي\tdeprel: nsubj\tupos: DET\n",
      "word: يعتمد\tdeprel: acl:relcl\tupos: VERB\n",
      "word: على\tdeprel: case\tupos: ADP\n",
      "word: الأبيض\tdeprel: obl:arg\tupos: ADJ\n",
      "word: و\tdeprel: cc\tupos: CCONJ\n",
      "word: الأسود\tdeprel: conj\tupos: ADJ\n",
      "word: و\tdeprel: cc\tupos: CCONJ\n",
      "word: تفلسف\tdeprel: conj\tupos: NOUN\n",
      "word: هما\tdeprel: nmod\tupos: PRON\n",
      "word: على\tdeprel: case\tupos: ADP\n",
      "word: نحو\tdeprel: nmod\tupos: NOUN\n",
      "word: خاص\tdeprel: amod\tupos: ADJ\n",
      "word: .\tdeprel: punct\tupos: PUNCT\n"
     ]
    }
   ],
   "source": [
    "print(*[f'word: {word.text}\\tdeprel: {word.deprel}\\tupos: {word.upos}' for sent in doc.sentences for word in sent.words], sep='\\n')"
   ]
  },
  {
   "cell_type": "code",
   "execution_count": 98,
   "id": "4563f7cc",
   "metadata": {},
   "outputs": [
    {
     "name": "stdout",
     "output_type": "stream",
     "text": [
      "====== Sentence 1 tokens =======\n",
      "id: (1,)\ttext: تقيم\n",
      "id: (2,)\ttext: الفنانة\n",
      "id: (3,)\ttext: ليتا\n",
      "id: (4,)\ttext: كابيلوت\n",
      "id: (5,)\ttext: معرضاً\n",
      "id: (6,)\ttext: في\n",
      "id: (7,)\ttext: مطلع\n",
      "id: (8,)\ttext: العام\n",
      "id: (9,)\ttext: المقبل\n",
      "id: (10,)\ttext: في\n",
      "id: (11,)\ttext: دبي\n",
      "id: (12,)\ttext: ،\n",
      "id: (13, 14)\ttext: ويضم\n",
      "id: (15,)\ttext: المعرض\n",
      "id: (16,)\ttext: 35\n",
      "id: (17,)\ttext: لوحة\n",
      "id: (18,)\ttext: ،\n",
      "id: (19,)\ttext: تركز\n",
      "id: (20, 21)\ttext: خلالها\n",
      "id: (22,)\ttext: على\n",
      "id: (23,)\ttext: الوجوه\n",
      "id: (24,)\ttext: .\n",
      "id: (25,)\ttext: كابيلوت\n",
      "id: (26,)\ttext: ولدت\n",
      "id: (27,)\ttext: في\n",
      "id: (28,)\ttext: العام\n",
      "id: (29,)\ttext: 1961\n",
      "id: (30,)\ttext: في\n",
      "id: (31,)\ttext: مجتمع\n",
      "id: (32,)\ttext: غجري\n",
      "id: (33,)\ttext: ،\n",
      "id: (34, 35)\ttext: لأم\n",
      "id: (36, 37)\ttext: هجرتها\n",
      "id: (38,)\ttext: قبل\n",
      "id: (39,)\ttext: أن\n",
      "id: (40,)\ttext: تتجاوز\n",
      "id: (41,)\ttext: الثلاثة\n",
      "id: (42,)\ttext: شهور\n",
      "id: (43,)\ttext: من\n",
      "id: (44, 45)\ttext: عمرها\n",
      "id: (46,)\ttext: ،\n",
      "id: (47, 48)\ttext: لتتكفل\n",
      "id: (49, 50)\ttext: جدتها\n",
      "id: (51,)\ttext: الغجرية\n",
      "id: (52, 54)\ttext: بتربيتها\n",
      "id: (55,)\ttext: إلى\n",
      "id: (56,)\ttext: سن\n",
      "id: (57,)\ttext: الثامنة\n",
      "id: (58,)\ttext: من\n",
      "id: (59, 60)\ttext: عمرها\n",
      "id: (61,)\ttext: ،\n",
      "id: (62,)\ttext: بعدما\n",
      "id: (63, 64)\ttext: منعتها\n",
      "id: (65,)\ttext: من\n",
      "id: (66,)\ttext: الالتحاق\n",
      "id: (67, 68)\ttext: بالمدرسة\n",
      "id: (69,)\ttext: ،\n",
      "id: (70,)\ttext: إلا\n",
      "id: (71,)\ttext: أن\n",
      "id: (72, 73)\ttext: تسليمها\n",
      "id: (74,)\ttext: في\n",
      "id: (75,)\ttext: مابعد\n",
      "id: (76,)\ttext: إلى\n",
      "id: (77,)\ttext: أحد\n",
      "id: (78,)\ttext: المياتم\n",
      "id: (79,)\ttext: من\n",
      "id: (80,)\ttext: قبل\n",
      "id: (81, 82)\ttext: جدتها\n",
      "id: (83,)\ttext: ،\n",
      "id: (84,)\ttext: شكل\n",
      "id: (85,)\ttext: نقطة\n",
      "id: (86,)\ttext: تحول\n",
      "id: (87,)\ttext: بارزة\n",
      "id: (88,)\ttext: في\n",
      "id: (89, 90)\ttext: حياتها\n",
      "id: (91,)\ttext: ،\n",
      "id: (92, 93)\ttext: لتتدرج\n",
      "id: (94,)\ttext: رويداً\n",
      "id: (95,)\ttext: رويداً\n",
      "id: (96,)\ttext: في\n",
      "id: (97,)\ttext: عالم\n",
      "id: (98,)\ttext: الفن\n",
      "id: (99,)\ttext: ،\n",
      "id: (100,)\ttext: بعد\n",
      "id: (101,)\ttext: نضوج\n",
      "id: (102, 103)\ttext: واكتشاف\n",
      "id: (104, 105)\ttext: موهبتها\n",
      "id: (106,)\ttext: ،\n",
      "id: (107,)\ttext: .\n",
      "====== Sentence 2 tokens =======\n",
      "id: (1, 2)\ttext: ومن\n",
      "id: (3,)\ttext: أبرز\n",
      "id: (4,)\ttext: ما\n",
      "id: (5, 7)\ttext: لاحظه\n",
      "id: (8,)\ttext: النقاد\n",
      "id: (9,)\ttext: حول\n",
      "id: (10,)\ttext: أعمال\n",
      "id: (11,)\ttext: ليتا\n",
      "id: (12,)\ttext: كابيلوت\n",
      "id: (13,)\ttext: أن\n",
      "id: (14, 15)\ttext: أعمالها\n",
      "id: (16,)\ttext: الفنية\n",
      "id: (17,)\ttext: استطاعت\n",
      "id: (18,)\ttext: أن\n",
      "id: (19,)\ttext: تخلق\n",
      "id: (20,)\ttext: عالماً\n",
      "id: (21,)\ttext: أكبر\n",
      "id: (22,)\ttext: من\n",
      "id: (23,)\ttext: الصورة\n",
      "id: (24,)\ttext: الفنية\n",
      "id: (25,)\ttext: ،\n",
      "id: (26,)\ttext: حيث\n",
      "id: (27,)\ttext: الوحة\n",
      "id: (28,)\ttext: في\n",
      "id: (29,)\ttext: هيئة\n",
      "id: (30,)\ttext: كائن\n",
      "id: (31,)\ttext: يتآلف\n",
      "id: (32,)\ttext: من\n",
      "id: (33,)\ttext: الألوان\n",
      "id: (34,)\ttext: الزيتية\n",
      "id: (35, 36)\ttext: والجبس\n",
      "id: (37, 38)\ttext: والقماش\n",
      "id: (39,)\ttext: ،\n",
      "id: (40, 41)\ttext: لتستطيع\n",
      "id: (42,)\ttext: إثارة\n",
      "id: (43,)\ttext: الجدل\n",
      "id: (44,)\ttext: بحق\n",
      "id: (45,)\ttext: من\n",
      "id: (46,)\ttext: خلال\n",
      "id: (47, 48)\ttext: استفزازها\n",
      "id: (49, 50)\ttext: للخيال\n",
      "id: (51, 52)\ttext: وهي\n",
      "id: (53,)\ttext: تلتقط\n",
      "id: (54,)\ttext: عوالم\n",
      "id: (55,)\ttext: فتيات\n",
      "id: (56,)\ttext: الشوارع\n",
      "id: (57, 58)\ttext: والغانيات\n",
      "id: (59, 60)\ttext: والمهرجين\n",
      "id: (61, 62)\ttext: والموسيقيين\n",
      "id: (63,)\ttext: ،\n",
      "id: (64, 65)\ttext: وقد\n",
      "id: (66,)\ttext: جمعت\n",
      "id: (67,)\ttext: كل\n",
      "id: (68,)\ttext: ذلك\n",
      "id: (69,)\ttext: في\n",
      "id: (70,)\ttext: كتاب\n",
      "id: (71,)\ttext: صدر\n",
      "id: (72,)\ttext: عن\n",
      "id: (73,)\ttext: دار\n",
      "id: (74,)\ttext: فريدا\n",
      "id: (75,)\ttext: كاهلو\n",
      "id: (76,)\ttext: ،\n",
      "id: (77,)\ttext: كي\n",
      "id: (78,)\ttext: تعد\n",
      "id: (79, 80)\ttext: نفسها\n",
      "id: (81,)\ttext: في\n",
      "id: (82,)\ttext: تناول\n",
      "id: (83, 84)\ttext: مشروعها\n",
      "id: (85,)\ttext: المهم\n",
      "id: (86,)\ttext: الذي\n",
      "id: (87, 88)\ttext: تسميه\n",
      "id: (89,)\ttext: أم\n",
      "id: (90,)\ttext: المآسي\n",
      "id: (91,)\ttext: الإنسانية\n",
      "id: (92,)\ttext: ،\n",
      "id: (93,)\ttext: حيث\n",
      "id: (94,)\ttext: تسلط\n",
      "id: (95, 96)\ttext: خلاله\n",
      "id: (97,)\ttext: الضوء\n",
      "id: (98,)\ttext: على\n",
      "id: (99,)\ttext: المرض\n",
      "id: (100,)\ttext: العقلي\n",
      "id: (101,)\ttext: محور\n",
      "id: (102, 103)\ttext: تجربتها\n",
      "id: (104,)\ttext: الجديدة\n",
      "id: (105,)\ttext: ،\n",
      "id: (106,)\ttext: ضمن\n",
      "id: (107, 108)\ttext: أسلوبها\n",
      "id: (109,)\ttext: الذي\n",
      "id: (110,)\ttext: يعتمد\n",
      "id: (111,)\ttext: على\n",
      "id: (112,)\ttext: الأبيض\n",
      "id: (113, 114)\ttext: والأسود\n",
      "id: (115, 117)\ttext: وتفلسفهما\n",
      "id: (118,)\ttext: على\n",
      "id: (119,)\ttext: نحو\n",
      "id: (120,)\ttext: خاص\n",
      "id: (121,)\ttext: .\n"
     ]
    }
   ],
   "source": [
    "doc = nlp(text_1)\n",
    "for i, sentence in enumerate(doc.sentences):\n",
    "    print(f'====== Sentence {i+1} tokens =======')\n",
    "    print(*[f'id: {token.id}\\ttext: {token.text}' for token in sentence.tokens], sep='\\n')"
   ]
  },
  {
   "cell_type": "code",
   "execution_count": 99,
   "id": "95e9dedb",
   "metadata": {},
   "outputs": [],
   "source": [
    "text_1=text_1.replace(\"،\",\".\")\n",
    "text_1=text_1.replace(\"؟\",\".\")"
   ]
  },
  {
   "cell_type": "code",
   "execution_count": 100,
   "id": "c73965f3",
   "metadata": {},
   "outputs": [
    {
     "data": {
      "text/plain": [
       "'تقيم الفنانة ليتا كابيلوت معرضاً في مطلع العام المقبل في دبي. ويضم المعرض 35 لوحة. تركز خلالها على الوجوه .كابيلوت ولدت في العام 1961 في مجتمع غجري. لأم هجرتها قبل أن تتجاوز الثلاثة شهور من عمرها. لتتكفل جدتها الغجرية بتربيتها إلى سن الثامنة من عمرها. بعدما منعتها من الالتحاق بالمدرسة. إلا أن تسليمها في مابعد إلى أحد المياتم من قبل جدتها. شكل نقطة تحول بارزة في حياتها. لتتدرج رويداً رويداً في عالم الفن. بعد نضوج واكتشاف موهبتها. .ومن أبرز ما لاحظه النقاد حول أعمال ليتا كابيلوت أن أعمالها الفنية استطاعت أن تخلق عالماً أكبر من الصورة الفنية. حيث الوحة في هيئة كائن يتآلف من الألوان الزيتية والجبس والقماش. لتستطيع إثارة الجدل بحق من خلال استفزازها للخيال وهي تلتقط عوالم فتيات الشوارع والغانيات والمهرجين والموسيقيين. وقد جمعت كل ذلك في كتاب صدر عن دار فريدا كاهلو. كي تعد نفسها في تناول مشروعها المهم الذي تسميه أم المآسي الإنسانية. حيث تسلط خلاله الضوء على المرض العقلي محور تجربتها الجديدة. ضمن أسلوبها الذي يعتمد على الأبيض والأسود وتفلسفهما على نحو خاص .'"
      ]
     },
     "execution_count": 100,
     "metadata": {},
     "output_type": "execute_result"
    }
   ],
   "source": [
    "text_1"
   ]
  },
  {
   "cell_type": "code",
   "execution_count": 101,
   "id": "f972435e",
   "metadata": {},
   "outputs": [],
   "source": [
    "text_1_list=text_1.split(\".\")"
   ]
  },
  {
   "cell_type": "code",
   "execution_count": 102,
   "id": "0286c6cf",
   "metadata": {},
   "outputs": [
    {
     "data": {
      "text/plain": [
       "20"
      ]
     },
     "execution_count": 102,
     "metadata": {},
     "output_type": "execute_result"
    }
   ],
   "source": [
    "len(text_1_list)"
   ]
  },
  {
   "cell_type": "code",
   "execution_count": 103,
   "id": "b84e9748",
   "metadata": {},
   "outputs": [],
   "source": [
    "import numpy as np\n",
    "text_1_list= np.array(text_1_list)"
   ]
  },
  {
   "cell_type": "code",
   "execution_count": 104,
   "id": "f8592a00",
   "metadata": {
    "scrolled": true
   },
   "outputs": [],
   "source": [
    "import pandas as pd\n",
    "pd.set_option(\"display.max_colwidth\",None)\n",
    "df = pd.DataFrame(text_1_list,columns=[\"sentence\"])"
   ]
  },
  {
   "cell_type": "code",
   "execution_count": 105,
   "id": "a0095830",
   "metadata": {},
   "outputs": [
    {
     "data": {
      "text/html": [
       "<div>\n",
       "<style scoped>\n",
       "    .dataframe tbody tr th:only-of-type {\n",
       "        vertical-align: middle;\n",
       "    }\n",
       "\n",
       "    .dataframe tbody tr th {\n",
       "        vertical-align: top;\n",
       "    }\n",
       "\n",
       "    .dataframe thead th {\n",
       "        text-align: right;\n",
       "    }\n",
       "</style>\n",
       "<table border=\"1\" class=\"dataframe\">\n",
       "  <thead>\n",
       "    <tr style=\"text-align: right;\">\n",
       "      <th></th>\n",
       "      <th>sentence</th>\n",
       "    </tr>\n",
       "  </thead>\n",
       "  <tbody>\n",
       "    <tr>\n",
       "      <th>0</th>\n",
       "      <td>تقيم الفنانة ليتا كابيلوت معرضاً في مطلع العام المقبل في دبي</td>\n",
       "    </tr>\n",
       "    <tr>\n",
       "      <th>1</th>\n",
       "      <td>ويضم المعرض 35 لوحة</td>\n",
       "    </tr>\n",
       "    <tr>\n",
       "      <th>2</th>\n",
       "      <td>تركز خلالها على الوجوه</td>\n",
       "    </tr>\n",
       "    <tr>\n",
       "      <th>3</th>\n",
       "      <td>كابيلوت ولدت في العام 1961 في مجتمع غجري</td>\n",
       "    </tr>\n",
       "    <tr>\n",
       "      <th>4</th>\n",
       "      <td>لأم هجرتها قبل أن تتجاوز الثلاثة شهور من عمرها</td>\n",
       "    </tr>\n",
       "  </tbody>\n",
       "</table>\n",
       "</div>"
      ],
      "text/plain": [
       "                                                       sentence\n",
       "0  تقيم الفنانة ليتا كابيلوت معرضاً في مطلع العام المقبل في دبي\n",
       "1                                           ويضم المعرض 35 لوحة\n",
       "2                                       تركز خلالها على الوجوه \n",
       "3                      كابيلوت ولدت في العام 1961 في مجتمع غجري\n",
       "4                لأم هجرتها قبل أن تتجاوز الثلاثة شهور من عمرها"
      ]
     },
     "execution_count": 105,
     "metadata": {},
     "output_type": "execute_result"
    }
   ],
   "source": [
    "df.head()"
   ]
  },
  {
   "cell_type": "code",
   "execution_count": 106,
   "id": "2afecb8f",
   "metadata": {},
   "outputs": [],
   "source": [
    "doc=nlp(text_1_list[0])"
   ]
  },
  {
   "cell_type": "code",
   "execution_count": 107,
   "id": "5dcd126d",
   "metadata": {},
   "outputs": [
    {
     "name": "stdout",
     "output_type": "stream",
     "text": [
      " تقيم\t  VERB\n",
      " الفنانة\t  NOUN\n",
      " ليتا\t  X\n",
      " كابيلوت\t  X\n",
      " معرضاً\t  NOUN\n",
      " في\t  ADP\n",
      " مطلع\t  NOUN\n",
      " العام\t  NOUN\n",
      " المقبل\t  ADJ\n",
      " في\t  ADP\n",
      " دبي\t  X\n"
     ]
    }
   ],
   "source": [
    "print(*[f' {word.text}\\t  {word.upos}' for sent in doc.sentences for word in sent.words], sep='\\n')"
   ]
  },
  {
   "cell_type": "code",
   "execution_count": 108,
   "id": "050faf55",
   "metadata": {},
   "outputs": [
    {
     "data": {
      "text/plain": [
       "'  نشر العدل من خلال قضاء مستقل.'"
      ]
     },
     "execution_count": 108,
     "metadata": {},
     "output_type": "execute_result"
    }
   ],
   "source": [
    "text"
   ]
  },
  {
   "cell_type": "code",
   "execution_count": 109,
   "id": "3db01d8a",
   "metadata": {},
   "outputs": [
    {
     "data": {
      "text/plain": [
       "array([' ويضم المعرض 35 لوحة'], dtype=object)"
      ]
     },
     "execution_count": 109,
     "metadata": {},
     "output_type": "execute_result"
    }
   ],
   "source": [
    "df.iloc[1].values"
   ]
  },
  {
   "cell_type": "code",
   "execution_count": 110,
   "id": "df216c4c",
   "metadata": {},
   "outputs": [],
   "source": [
    "def get_relation(sent):\n",
    "    relation =\"\"\n",
    "    doc=nlp(sent)\n",
    "    for sent in doc.sentences:\n",
    "        for word in sent.words:\n",
    "            if word.upos==\"VERB\":\n",
    "                relation +=word.text\n",
    "    return relation"
   ]
  },
  {
   "cell_type": "code",
   "execution_count": 111,
   "id": "15b8786e",
   "metadata": {},
   "outputs": [],
   "source": [
    "relation = []\n",
    "for i in range(len(text_1_list)):\n",
    "    relation.append(get_relation(text_1_list[i]))"
   ]
  },
  {
   "cell_type": "code",
   "execution_count": 112,
   "id": "421911e7",
   "metadata": {},
   "outputs": [
    {
     "data": {
      "text/plain": [
       "20"
      ]
     },
     "execution_count": 112,
     "metadata": {},
     "output_type": "execute_result"
    }
   ],
   "source": [
    "len(relation)"
   ]
  },
  {
   "cell_type": "code",
   "execution_count": 113,
   "id": "63d2704b",
   "metadata": {},
   "outputs": [
    {
     "data": {
      "text/plain": [
       "20"
      ]
     },
     "execution_count": 113,
     "metadata": {},
     "output_type": "execute_result"
    }
   ],
   "source": [
    "len(text_1_list)"
   ]
  },
  {
   "cell_type": "code",
   "execution_count": 114,
   "id": "f72d871e",
   "metadata": {},
   "outputs": [],
   "source": [
    "def get_entities(sent):\n",
    "    ent=\"\"\n",
    "    doc=nlp(sent)\n",
    "    for sent in doc.sentences:\n",
    "        for word in sent.words:\n",
    "            if word.upos==\"NOUN\":\n",
    "                ent =ent + \" , \" +word.text\n",
    "            else:\n",
    "                ent= ent + \" \"\n",
    "    return ent"
   ]
  },
  {
   "cell_type": "code",
   "execution_count": 115,
   "id": "61d37b1e",
   "metadata": {},
   "outputs": [],
   "source": [
    "entities = []\n",
    "for i in range(len(text_1_list)):\n",
    "    entities.append(get_entities(text_1_list[i]))"
   ]
  },
  {
   "cell_type": "code",
   "execution_count": 116,
   "id": "3ab7b08b",
   "metadata": {},
   "outputs": [
    {
     "data": {
      "text/plain": [
       "['  , الفنانة   , معرضاً  , مطلع , العام   ',\n",
       " '   , المعرض  , لوحة',\n",
       " '     , الوجوه',\n",
       " '    , العام   , مجتمع ',\n",
       " '         , شهور  , عمر ',\n",
       " '   , جدة    , تربية      , عمر ',\n",
       " '  , منعة   , الالتحاق , بالمدرسة',\n",
       " '   , تسليم   , مابعد  , أحد , المياتم  , قبل , جدة ',\n",
       " ' , شكل , نقطة , تحول   , حياة ',\n",
       " '      , عالم , الفن',\n",
       " '  , نضوج  , اكتشاف , موهبة ',\n",
       " '',\n",
       " '        , النقاد  , أعمال    , أعمال      , عالماً   , الصورة ',\n",
       " '  , الوحة  , هيئة    , الألوان   , الجبس ',\n",
       " '   , إثارة , الجدل , بحق   , استفزاز   , الخيال    , عوالم , فتيات , الشوارع    , المهرجين ',\n",
       " '    , كل   , كتاب   , دار  ',\n",
       " '   , نفس   , تناول , مشروع       , المآسي ',\n",
       " '     , الضوء  , المرض  , محور , تجربة  ',\n",
       " '           , تفلسف   , نحو ',\n",
       " '']"
      ]
     },
     "execution_count": 116,
     "metadata": {},
     "output_type": "execute_result"
    }
   ],
   "source": [
    "entities"
   ]
  },
  {
   "cell_type": "code",
   "execution_count": 117,
   "id": "3f5cb9c2",
   "metadata": {},
   "outputs": [
    {
     "data": {
      "text/plain": [
       "['تقيم',\n",
       " 'يضم',\n",
       " 'تركز',\n",
       " 'ولدت',\n",
       " 'هجرتتتجاوز',\n",
       " 'تتكفل',\n",
       " '',\n",
       " '',\n",
       " '',\n",
       " 'تتدرج',\n",
       " '',\n",
       " '',\n",
       " 'أحظاستطاعتتخلق',\n",
       " 'يتآلف',\n",
       " 'تستطيعتلتقط',\n",
       " 'جمعتصدر',\n",
       " 'تعدتسمي',\n",
       " 'تسلط',\n",
       " 'أسلوايعتمد',\n",
       " '']"
      ]
     },
     "execution_count": 117,
     "metadata": {},
     "output_type": "execute_result"
    }
   ],
   "source": [
    "relation"
   ]
  },
  {
   "cell_type": "code",
   "execution_count": 289,
   "id": "7df831da",
   "metadata": {},
   "outputs": [
    {
     "data": {
      "text/html": [
       "<div>\n",
       "<style scoped>\n",
       "    .dataframe tbody tr th:only-of-type {\n",
       "        vertical-align: middle;\n",
       "    }\n",
       "\n",
       "    .dataframe tbody tr th {\n",
       "        vertical-align: top;\n",
       "    }\n",
       "\n",
       "    .dataframe thead th {\n",
       "        text-align: right;\n",
       "    }\n",
       "</style>\n",
       "<table border=\"1\" class=\"dataframe\">\n",
       "  <thead>\n",
       "    <tr style=\"text-align: right;\">\n",
       "      <th></th>\n",
       "      <th>sentence</th>\n",
       "    </tr>\n",
       "  </thead>\n",
       "  <tbody>\n",
       "    <tr>\n",
       "      <th>0</th>\n",
       "      <td>, الفنانة   , معرضاً  , مطلع , العام</td>\n",
       "    </tr>\n",
       "    <tr>\n",
       "      <th>1</th>\n",
       "      <td>, المعرض  , لوحة</td>\n",
       "    </tr>\n",
       "    <tr>\n",
       "      <th>2</th>\n",
       "      <td>, الوجوه</td>\n",
       "    </tr>\n",
       "    <tr>\n",
       "      <th>3</th>\n",
       "      <td>, العام   , مجتمع</td>\n",
       "    </tr>\n",
       "    <tr>\n",
       "      <th>4</th>\n",
       "      <td>, شهور  , عمر</td>\n",
       "    </tr>\n",
       "    <tr>\n",
       "      <th>5</th>\n",
       "      <td>, جدة    , تربية      , عمر</td>\n",
       "    </tr>\n",
       "    <tr>\n",
       "      <th>6</th>\n",
       "      <td>, منعة   , الالتحاق , بالمدرسة</td>\n",
       "    </tr>\n",
       "    <tr>\n",
       "      <th>7</th>\n",
       "      <td>, تسليم   , مابعد  , أحد , المياتم  , قبل , جدة</td>\n",
       "    </tr>\n",
       "    <tr>\n",
       "      <th>8</th>\n",
       "      <td>, شكل , نقطة , تحول   , حياة</td>\n",
       "    </tr>\n",
       "    <tr>\n",
       "      <th>9</th>\n",
       "      <td>, عالم , الفن</td>\n",
       "    </tr>\n",
       "    <tr>\n",
       "      <th>10</th>\n",
       "      <td>, نضوج  , اكتشاف , موهبة</td>\n",
       "    </tr>\n",
       "    <tr>\n",
       "      <th>11</th>\n",
       "      <td></td>\n",
       "    </tr>\n",
       "    <tr>\n",
       "      <th>12</th>\n",
       "      <td>, النقاد  , أعمال    , أعمال      , عالماً   , الصورة</td>\n",
       "    </tr>\n",
       "    <tr>\n",
       "      <th>13</th>\n",
       "      <td>, الوحة  , هيئة    , الألوان   , الجبس</td>\n",
       "    </tr>\n",
       "    <tr>\n",
       "      <th>14</th>\n",
       "      <td>, إثارة , الجدل , بحق   , استفزاز   , الخيال    , عوالم , فتيات , الشوارع    , المهرجين</td>\n",
       "    </tr>\n",
       "    <tr>\n",
       "      <th>15</th>\n",
       "      <td>, كل   , كتاب   , دار</td>\n",
       "    </tr>\n",
       "    <tr>\n",
       "      <th>16</th>\n",
       "      <td>, نفس   , تناول , مشروع       , المآسي</td>\n",
       "    </tr>\n",
       "    <tr>\n",
       "      <th>17</th>\n",
       "      <td>, الضوء  , المرض  , محور , تجربة</td>\n",
       "    </tr>\n",
       "    <tr>\n",
       "      <th>18</th>\n",
       "      <td>, تفلسف   , نحو</td>\n",
       "    </tr>\n",
       "    <tr>\n",
       "      <th>19</th>\n",
       "      <td></td>\n",
       "    </tr>\n",
       "  </tbody>\n",
       "</table>\n",
       "</div>"
      ],
      "text/plain": [
       "                                                                                       sentence\n",
       "0                                                       , الفنانة   , معرضاً  , مطلع , العام   \n",
       "1                                                                              , المعرض  , لوحة\n",
       "2                                                                                      , الوجوه\n",
       "3                                                                            , العام   , مجتمع \n",
       "4                                                                                , شهور  , عمر \n",
       "5                                                                  , جدة    , تربية      , عمر \n",
       "6                                                                , منعة   , الالتحاق , بالمدرسة\n",
       "7                                              , تسليم   , مابعد  , أحد , المياتم  , قبل , جدة \n",
       "8                                                                 , شكل , نقطة , تحول   , حياة \n",
       "9                                                                                 , عالم , الفن\n",
       "10                                                                    , نضوج  , اكتشاف , موهبة \n",
       "11                                                                                             \n",
       "12                                       , النقاد  , أعمال    , أعمال      , عالماً   , الصورة \n",
       "13                                                      , الوحة  , هيئة    , الألوان   , الجبس \n",
       "14     , إثارة , الجدل , بحق   , استفزاز   , الخيال    , عوالم , فتيات , الشوارع    , المهرجين \n",
       "15                                                                      , كل   , كتاب   , دار  \n",
       "16                                                      , نفس   , تناول , مشروع       , المآسي \n",
       "17                                                           , الضوء  , المرض  , محور , تجربة  \n",
       "18                                                                             , تفلسف   , نحو \n",
       "19                                                                                             "
      ]
     },
     "execution_count": 289,
     "metadata": {},
     "output_type": "execute_result"
    }
   ],
   "source": [
    "df_e=pd.DataFrame(np.array(entities))\n",
    "df_e.columns=[\"sentence\"]\n",
    "df_e"
   ]
  },
  {
   "cell_type": "code",
   "execution_count": 290,
   "id": "7f444ba8",
   "metadata": {},
   "outputs": [],
   "source": [
    "df_e.drop([df_e.index[11],df_e.index[6],df_e.index[7],df_e.index[8],df_e.index[10],df_e.index[19],df_e.index[2]],inplace=True)"
   ]
  },
  {
   "cell_type": "code",
   "execution_count": 291,
   "id": "03b7bcf6",
   "metadata": {},
   "outputs": [],
   "source": [
    "df_r = pd.DataFrame(np.array(relation))\n",
    "df_r.columns= [\"relations\"]"
   ]
  },
  {
   "cell_type": "code",
   "execution_count": 292,
   "id": "5cf0a95b",
   "metadata": {},
   "outputs": [],
   "source": [
    "df_r.drop([df_r.index[11],df_r.index[6],df_r.index[7],df_r.index[8],df_r.index[10],df_r.index[19],df_r.index[2]],inplace=True)"
   ]
  },
  {
   "cell_type": "code",
   "execution_count": 293,
   "id": "7a87c97d",
   "metadata": {},
   "outputs": [],
   "source": [
    "df_r.reset_index(inplace=True,drop=True)\n",
    "df_e.reset_index(inplace=True,drop=True)"
   ]
  },
  {
   "cell_type": "code",
   "execution_count": 295,
   "id": "6226db6f",
   "metadata": {},
   "outputs": [],
   "source": [
    "df_e[\"sentence\"]=df_e[\"sentence\"].str.replace(\" , \",\" \") "
   ]
  },
  {
   "cell_type": "code",
   "execution_count": 304,
   "id": "66308d21",
   "metadata": {},
   "outputs": [
    {
     "data": {
      "text/plain": [
       "0                                               الفنانة   معرضاً  مطلع العام   \n",
       "1                                                                  المعرض  لوحة\n",
       "2                                                                العام   مجتمع \n",
       "3                                                                    شهور  عمر \n",
       "4                                                        جدة    تربية      عمر \n",
       "5                                                                     عالم الفن\n",
       "6                                  النقاد  أعمال    أعمال      عالماً   الصورة \n",
       "7                                               الوحة  هيئة    الألوان   الجبس \n",
       "8        إثارة الجدل بحق   استفزاز   الخيال    عوالم فتيات الشوارع    المهرجين \n",
       "9                                                             كل   كتاب   دار  \n",
       "10                                              نفس   تناول مشروع       المآسي \n",
       "11                                                   الضوء  المرض  محور تجربة  \n",
       "12                                                                 تفلسف   نحو \n",
       "Name: sentence, dtype: object"
      ]
     },
     "execution_count": 304,
     "metadata": {},
     "output_type": "execute_result"
    }
   ],
   "source": [
    "df_e[\"sentence\"]"
   ]
  },
  {
   "cell_type": "code",
   "execution_count": 307,
   "id": "0f591ecd",
   "metadata": {},
   "outputs": [],
   "source": [
    "df_e[\"sentence\"]=df_e[\"sentence\"].str.replace(\"   \",\" \")"
   ]
  },
  {
   "cell_type": "code",
   "execution_count": 317,
   "id": "c4d01399",
   "metadata": {},
   "outputs": [
    {
     "data": {
      "text/plain": [
       "0                                         الفنانة معرضاً  مطلع العام \n",
       "1                                                        المعرض  لوحة\n",
       "2                                                        العام مجتمع \n",
       "3                                                          شهور  عمر \n",
       "4                                                    جدة  تربية  عمر \n",
       "5                                                           عالم الفن\n",
       "6                                النقاد  أعمال  أعمال  عالماً الصورة \n",
       "7                                         الوحة  هيئة  الألوان الجبس \n",
       "8      إثارة الجدل بحق استفزاز الخيال  عوالم فتيات الشوارع  المهرجين \n",
       "9                                                       كل كتاب دار  \n",
       "10                                          نفس تناول مشروع   المآسي \n",
       "11                                         الضوء  المرض  محور تجربة  \n",
       "12                                                         تفلسف نحو \n",
       "Name: sentence, dtype: object"
      ]
     },
     "execution_count": 317,
     "metadata": {},
     "output_type": "execute_result"
    }
   ],
   "source": [
    "df_e[\"sentence\"]"
   ]
  },
  {
   "cell_type": "code",
   "execution_count": 329,
   "id": "4f45f958",
   "metadata": {},
   "outputs": [],
   "source": [
    "source = df_e[\"sentence\"].str.rsplit().str[0]"
   ]
  },
  {
   "cell_type": "code",
   "execution_count": 330,
   "id": "b7049b81",
   "metadata": {},
   "outputs": [],
   "source": [
    "target = df_e[\"sentence\"].str.split().str[1]"
   ]
  },
  {
   "cell_type": "code",
   "execution_count": 336,
   "id": "e6098c83",
   "metadata": {},
   "outputs": [],
   "source": [
    "edge =  df_r[\"relations\"]"
   ]
  },
  {
   "cell_type": "code",
   "execution_count": 337,
   "id": "570382cb",
   "metadata": {},
   "outputs": [],
   "source": [
    "kg_df = pd.DataFrame({\"source\":source,\"target\":target,\"edge\":edge})"
   ]
  },
  {
   "cell_type": "code",
   "execution_count": 338,
   "id": "32b78a63",
   "metadata": {},
   "outputs": [
    {
     "data": {
      "text/html": [
       "<div>\n",
       "<style scoped>\n",
       "    .dataframe tbody tr th:only-of-type {\n",
       "        vertical-align: middle;\n",
       "    }\n",
       "\n",
       "    .dataframe tbody tr th {\n",
       "        vertical-align: top;\n",
       "    }\n",
       "\n",
       "    .dataframe thead th {\n",
       "        text-align: right;\n",
       "    }\n",
       "</style>\n",
       "<table border=\"1\" class=\"dataframe\">\n",
       "  <thead>\n",
       "    <tr style=\"text-align: right;\">\n",
       "      <th></th>\n",
       "      <th>source</th>\n",
       "      <th>target</th>\n",
       "      <th>edge</th>\n",
       "    </tr>\n",
       "  </thead>\n",
       "  <tbody>\n",
       "    <tr>\n",
       "      <th>0</th>\n",
       "      <td>الفنانة</td>\n",
       "      <td>معرضاً</td>\n",
       "      <td>تقيم</td>\n",
       "    </tr>\n",
       "    <tr>\n",
       "      <th>1</th>\n",
       "      <td>المعرض</td>\n",
       "      <td>لوحة</td>\n",
       "      <td>يضم</td>\n",
       "    </tr>\n",
       "    <tr>\n",
       "      <th>2</th>\n",
       "      <td>العام</td>\n",
       "      <td>مجتمع</td>\n",
       "      <td>ولدت</td>\n",
       "    </tr>\n",
       "    <tr>\n",
       "      <th>3</th>\n",
       "      <td>شهور</td>\n",
       "      <td>عمر</td>\n",
       "      <td>هجرتتتجاوز</td>\n",
       "    </tr>\n",
       "    <tr>\n",
       "      <th>4</th>\n",
       "      <td>جدة</td>\n",
       "      <td>تربية</td>\n",
       "      <td>تتكفل</td>\n",
       "    </tr>\n",
       "    <tr>\n",
       "      <th>5</th>\n",
       "      <td>عالم</td>\n",
       "      <td>الفن</td>\n",
       "      <td>تتدرج</td>\n",
       "    </tr>\n",
       "    <tr>\n",
       "      <th>6</th>\n",
       "      <td>النقاد</td>\n",
       "      <td>أعمال</td>\n",
       "      <td>أحظاستطاعتتخلق</td>\n",
       "    </tr>\n",
       "    <tr>\n",
       "      <th>7</th>\n",
       "      <td>الوحة</td>\n",
       "      <td>هيئة</td>\n",
       "      <td>يتآلف</td>\n",
       "    </tr>\n",
       "    <tr>\n",
       "      <th>8</th>\n",
       "      <td>إثارة</td>\n",
       "      <td>الجدل</td>\n",
       "      <td>تستطيعتلتقط</td>\n",
       "    </tr>\n",
       "    <tr>\n",
       "      <th>9</th>\n",
       "      <td>كل</td>\n",
       "      <td>كتاب</td>\n",
       "      <td>جمعتصدر</td>\n",
       "    </tr>\n",
       "    <tr>\n",
       "      <th>10</th>\n",
       "      <td>نفس</td>\n",
       "      <td>تناول</td>\n",
       "      <td>تعدتسمي</td>\n",
       "    </tr>\n",
       "    <tr>\n",
       "      <th>11</th>\n",
       "      <td>الضوء</td>\n",
       "      <td>المرض</td>\n",
       "      <td>تسلط</td>\n",
       "    </tr>\n",
       "    <tr>\n",
       "      <th>12</th>\n",
       "      <td>تفلسف</td>\n",
       "      <td>نحو</td>\n",
       "      <td>أسلوايعتمد</td>\n",
       "    </tr>\n",
       "  </tbody>\n",
       "</table>\n",
       "</div>"
      ],
      "text/plain": [
       "     source  target            edge\n",
       "0   الفنانة  معرضاً            تقيم\n",
       "1    المعرض    لوحة             يضم\n",
       "2     العام   مجتمع            ولدت\n",
       "3      شهور     عمر      هجرتتتجاوز\n",
       "4       جدة   تربية           تتكفل\n",
       "5      عالم    الفن           تتدرج\n",
       "6    النقاد   أعمال  أحظاستطاعتتخلق\n",
       "7     الوحة    هيئة           يتآلف\n",
       "8     إثارة   الجدل     تستطيعتلتقط\n",
       "9        كل    كتاب         جمعتصدر\n",
       "10      نفس   تناول         تعدتسمي\n",
       "11    الضوء   المرض            تسلط\n",
       "12    تفلسف     نحو      أسلوايعتمد"
      ]
     },
     "execution_count": 338,
     "metadata": {},
     "output_type": "execute_result"
    }
   ],
   "source": [
    "kg_df"
   ]
  },
  {
   "cell_type": "code",
   "execution_count": 348,
   "id": "8afd5f8e",
   "metadata": {},
   "outputs": [],
   "source": [
    "# create a directed_graph from a  dataframe\n",
    "G= nx.from_pandas_edgelist(kg_df,\"source\", \"target\", edge_attr=True , create_using=nx.MultiDiGraph())"
   ]
  },
  {
   "cell_type": "code",
   "execution_count": 349,
   "id": "fd2cfbbb",
   "metadata": {
    "scrolled": true
   },
   "outputs": [
    {
     "data": {
      "text/plain": [
       "<Figure size 1200x1200 with 0 Axes>"
      ]
     },
     "metadata": {},
     "output_type": "display_data"
    },
    {
     "data": {
      "text/plain": [
       "<Figure size 1200x1200 with 0 Axes>"
      ]
     },
     "metadata": {},
     "output_type": "display_data"
    },
    {
     "data": {
      "image/png": "[encoded data removed]",
      "text/plain": [
       "<Figure size 1200x1200 with 1 Axes>"
      ]
     },
     "metadata": {},
     "output_type": "display_data"
    }
   ],
   "source": [
    "import matplotlib.pyplot as plt\n",
    "import networkx as nx\n",
    "plt.figure(figsize=(12,12))\n",
    "\n",
    "pos=nx.spring_layout(G)\n",
    "nx.draw(G,with_labels=True,node_color=\"skyblue\",edge_cmap=plt.cm.Blues,pos=pos)\n",
    "plt.show()"
   ]
  },
  {
   "cell_type": "code",
   "execution_count": 346,
   "id": "b081dda8",
   "metadata": {},
   "outputs": [
    {
     "name": "stdout",
     "output_type": "stream",
     "text": [
      "Collecting networkx\n",
      "  Using cached networkx-2.6.3-py3-none-any.whl (1.9 MB)\n",
      "Installing collected packages: networkx\n",
      "Successfully installed networkx-2.6.3\n",
      "Note: you may need to restart the kernel to use updated packages.\n"
     ]
    }
   ],
   "source": [
    "pip install networkx"
   ]
  },
  {
   "cell_type": "code",
   "execution_count": 350,
   "id": "29a0f6e4",
   "metadata": {},
   "outputs": [],
   "source": [
    "kg_df.to_csv(\"final_kg.csv\")"
   ]
  },
  {
   "cell_type": "code",
   "execution_count": null,
   "id": "ad413cac",
   "metadata": {},
   "outputs": [],
   "source": []
  }
 ],
 "metadata": {
  "kernelspec": {
   "display_name": "Python 3",
   "language": "python",
   "name": "python3"
  },
  "language_info": {
   "codemirror_mode": {
    "name": "ipython",
    "version": 3
   },
   "file_extension": ".py",
   "mimetype": "text/x-python",
   "name": "python",
   "nbconvert_exporter": "python",
   "pygments_lexer": "ipython3",
   "version": "3.9.7"
  }
 },
 "nbformat": 4,
 "nbformat_minor": 5
}
